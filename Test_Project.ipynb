{
 "nbformat": 4,
 "nbformat_minor": 0,
 "metadata": {
  "colab": {
   "name": "Test_Project.ipynb",
   "provenance": [],
   "collapsed_sections": []
  },
  "kernelspec": {
   "name": "python3",
   "display_name": "Python 3"
  },
  "accelerator": "GPU"
 },
 "cells": [
  {
   "cell_type": "code",
   "metadata": {
    "id": "GS49qhlOau6n"
   },
   "source": [
    "from google.colab import drive\n",
    "drive.mount('/content/drive/')\n",
    "%cd '/content/drive/My Drive/cv_proj_21_300016417_312739485/'"
   ],
   "execution_count": null,
   "outputs": []
  },
  {
   "cell_type": "code",
   "metadata": {
    "id": "b1x5nzZTbMzZ"
   },
   "source": [
    "!pip install -r requirements.txt\n",
    "\n",
    "!python Main.py -myAnns newAnns.txt -anns realAnns.txt -buses busesDir -saveDir dirToSave"
   ],
   "execution_count": null,
   "outputs": []
  }
 ]
}